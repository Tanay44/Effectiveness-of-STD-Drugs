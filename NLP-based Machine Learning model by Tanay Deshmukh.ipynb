{
 "cells": [
  {
   "cell_type": "code",
   "execution_count": 30,
   "id": "4b2fcad4",
   "metadata": {},
   "outputs": [],
   "source": [
    "import os \n",
    "import pandas as pd\n",
    "import numpy as np"
   ]
  },
  {
   "cell_type": "code",
   "execution_count": 31,
   "id": "254a5b0b",
   "metadata": {},
   "outputs": [
    {
     "name": "stdout",
     "output_type": "stream",
     "text": [
      "['test.csv', 'train.csv']\n"
     ]
    }
   ],
   "source": [
    "os.chdir(\"T:\\\\My Dir\\\\Downloads\\\\916e0d48-7-dataset\\\\dataset\")\n",
    "print(os.listdir())\n",
    "test = pd.read_csv('test.csv')\n",
    "train = pd.read_csv('train.csv')"
   ]
  },
  {
   "cell_type": "code",
   "execution_count": 32,
   "id": "0a381058",
   "metadata": {},
   "outputs": [
    {
     "data": {
      "text/html": [
       "<div>\n",
       "<style scoped>\n",
       "    .dataframe tbody tr th:only-of-type {\n",
       "        vertical-align: middle;\n",
       "    }\n",
       "\n",
       "    .dataframe tbody tr th {\n",
       "        vertical-align: top;\n",
       "    }\n",
       "\n",
       "    .dataframe thead th {\n",
       "        text-align: right;\n",
       "    }\n",
       "</style>\n",
       "<table border=\"1\" class=\"dataframe\">\n",
       "  <thead>\n",
       "    <tr style=\"text-align: right;\">\n",
       "      <th></th>\n",
       "      <th>patient_id</th>\n",
       "      <th>name_of_drug</th>\n",
       "      <th>review_by_patient</th>\n",
       "      <th>drug_approved_by_UIC</th>\n",
       "      <th>number_of_times_prescribed</th>\n",
       "      <th>use_case_for_drug</th>\n",
       "      <th>effectiveness_rating</th>\n",
       "    </tr>\n",
       "  </thead>\n",
       "  <tbody>\n",
       "    <tr>\n",
       "      <th>0</th>\n",
       "      <td>163740</td>\n",
       "      <td>Mirtazapine</td>\n",
       "      <td>\"I&amp;#039;ve tried a few antidepressants over th...</td>\n",
       "      <td>28-Feb-12</td>\n",
       "      <td>22</td>\n",
       "      <td>Depression</td>\n",
       "      <td>10</td>\n",
       "    </tr>\n",
       "    <tr>\n",
       "      <th>1</th>\n",
       "      <td>39293</td>\n",
       "      <td>Contrave</td>\n",
       "      <td>\"Contrave combines drugs that were used for al...</td>\n",
       "      <td>5-Mar-17</td>\n",
       "      <td>35</td>\n",
       "      <td>Weight Loss</td>\n",
       "      <td>9</td>\n",
       "    </tr>\n",
       "  </tbody>\n",
       "</table>\n",
       "</div>"
      ],
      "text/plain": [
       "   patient_id name_of_drug                                  review_by_patient  \\\n",
       "0      163740  Mirtazapine  \"I&#039;ve tried a few antidepressants over th...   \n",
       "1       39293     Contrave  \"Contrave combines drugs that were used for al...   \n",
       "\n",
       "  drug_approved_by_UIC  number_of_times_prescribed use_case_for_drug  \\\n",
       "0            28-Feb-12                          22        Depression   \n",
       "1             5-Mar-17                          35       Weight Loss   \n",
       "\n",
       "   effectiveness_rating  \n",
       "0                    10  \n",
       "1                     9  "
      ]
     },
     "execution_count": 32,
     "metadata": {},
     "output_type": "execute_result"
    }
   ],
   "source": [
    "test.head(2)"
   ]
  },
  {
   "cell_type": "code",
   "execution_count": 33,
   "id": "fa3e9bd8",
   "metadata": {},
   "outputs": [
    {
     "data": {
      "text/html": [
       "<div>\n",
       "<style scoped>\n",
       "    .dataframe tbody tr th:only-of-type {\n",
       "        vertical-align: middle;\n",
       "    }\n",
       "\n",
       "    .dataframe tbody tr th {\n",
       "        vertical-align: top;\n",
       "    }\n",
       "\n",
       "    .dataframe thead th {\n",
       "        text-align: right;\n",
       "    }\n",
       "</style>\n",
       "<table border=\"1\" class=\"dataframe\">\n",
       "  <thead>\n",
       "    <tr style=\"text-align: right;\">\n",
       "      <th></th>\n",
       "      <th>patient_id</th>\n",
       "      <th>name_of_drug</th>\n",
       "      <th>use_case_for_drug</th>\n",
       "      <th>review_by_patient</th>\n",
       "      <th>effectiveness_rating</th>\n",
       "      <th>drug_approved_by_UIC</th>\n",
       "      <th>number_of_times_prescribed</th>\n",
       "      <th>base_score</th>\n",
       "    </tr>\n",
       "  </thead>\n",
       "  <tbody>\n",
       "    <tr>\n",
       "      <th>0</th>\n",
       "      <td>206461</td>\n",
       "      <td>Valsartan</td>\n",
       "      <td>Left Ventricular Dysfunction</td>\n",
       "      <td>\"It has no side effect, I take it in combinati...</td>\n",
       "      <td>9</td>\n",
       "      <td>20-May-12</td>\n",
       "      <td>27</td>\n",
       "      <td>8.022969</td>\n",
       "    </tr>\n",
       "    <tr>\n",
       "      <th>1</th>\n",
       "      <td>95260</td>\n",
       "      <td>Guanfacine</td>\n",
       "      <td>ADHD</td>\n",
       "      <td>\"My son is halfway through his fourth week of ...</td>\n",
       "      <td>8</td>\n",
       "      <td>27-Apr-10</td>\n",
       "      <td>192</td>\n",
       "      <td>7.858458</td>\n",
       "    </tr>\n",
       "  </tbody>\n",
       "</table>\n",
       "</div>"
      ],
      "text/plain": [
       "   patient_id name_of_drug             use_case_for_drug  \\\n",
       "0      206461    Valsartan  Left Ventricular Dysfunction   \n",
       "1       95260   Guanfacine                          ADHD   \n",
       "\n",
       "                                   review_by_patient  effectiveness_rating  \\\n",
       "0  \"It has no side effect, I take it in combinati...                     9   \n",
       "1  \"My son is halfway through his fourth week of ...                     8   \n",
       "\n",
       "  drug_approved_by_UIC  number_of_times_prescribed  base_score  \n",
       "0            20-May-12                          27    8.022969  \n",
       "1            27-Apr-10                         192    7.858458  "
      ]
     },
     "execution_count": 33,
     "metadata": {},
     "output_type": "execute_result"
    }
   ],
   "source": [
    "train.head(2)"
   ]
  },
  {
   "cell_type": "code",
   "execution_count": 34,
   "id": "0cf7d44b",
   "metadata": {},
   "outputs": [
    {
     "name": "stdout",
     "output_type": "stream",
     "text": [
      "<class 'pandas.core.frame.DataFrame'>\n",
      "RangeIndex: 10760 entries, 0 to 10759\n",
      "Data columns (total 7 columns):\n",
      " #   Column                      Non-Null Count  Dtype \n",
      "---  ------                      --------------  ----- \n",
      " 0   patient_id                  10760 non-null  int64 \n",
      " 1   name_of_drug                10760 non-null  object\n",
      " 2   review_by_patient           10760 non-null  object\n",
      " 3   drug_approved_by_UIC        10760 non-null  object\n",
      " 4   number_of_times_prescribed  10760 non-null  int64 \n",
      " 5   use_case_for_drug           10760 non-null  object\n",
      " 6   effectiveness_rating        10760 non-null  int64 \n",
      "dtypes: int64(3), object(4)\n",
      "memory usage: 588.6+ KB\n"
     ]
    }
   ],
   "source": [
    "test.info()"
   ]
  },
  {
   "cell_type": "code",
   "execution_count": 35,
   "id": "e88a4004",
   "metadata": {},
   "outputs": [
    {
     "name": "stdout",
     "output_type": "stream",
     "text": [
      "<class 'pandas.core.frame.DataFrame'>\n",
      "RangeIndex: 32165 entries, 0 to 32164\n",
      "Data columns (total 8 columns):\n",
      " #   Column                      Non-Null Count  Dtype  \n",
      "---  ------                      --------------  -----  \n",
      " 0   patient_id                  32165 non-null  int64  \n",
      " 1   name_of_drug                32165 non-null  object \n",
      " 2   use_case_for_drug           32165 non-null  object \n",
      " 3   review_by_patient           32165 non-null  object \n",
      " 4   effectiveness_rating        32165 non-null  int64  \n",
      " 5   drug_approved_by_UIC        32165 non-null  object \n",
      " 6   number_of_times_prescribed  32165 non-null  int64  \n",
      " 7   base_score                  32165 non-null  float64\n",
      "dtypes: float64(1), int64(3), object(4)\n",
      "memory usage: 2.0+ MB\n"
     ]
    }
   ],
   "source": [
    "train.info()"
   ]
  },
  {
   "cell_type": "markdown",
   "id": "bc4e1921",
   "metadata": {},
   "source": [
    "**Merging text columns**"
   ]
  },
  {
   "cell_type": "code",
   "execution_count": 36,
   "id": "8d30b5fc",
   "metadata": {},
   "outputs": [],
   "source": [
    "train['review_by_patient'] = train['review_by_patient'] + train['use_case_for_drug'] + train['name_of_drug']\n",
    "test['review_by_patient'] = test['review_by_patient'] + test['use_case_for_drug'] + test['name_of_drug']\n",
    "\n",
    "from gensim.parsing.preprocessing import preprocess_documents\n",
    "\n",
    "t1 = preprocess_documents(train['review_by_patient'])\n",
    "t2 = preprocess_documents(test['review_by_patient'])"
   ]
  },
  {
   "cell_type": "code",
   "execution_count": 37,
   "id": "7a851c10",
   "metadata": {},
   "outputs": [],
   "source": [
    "l1 = []\n",
    "for i in t1:\n",
    "  s1 = ''\n",
    "  for j in i:\n",
    "    s1 = s1 + j + ' '\n",
    "  l1.append(s1)\n",
    "l2 = []\n",
    "\n",
    "for i in t2:\n",
    "  s2 = ''\n",
    "  for j in i:\n",
    "    s2 = s2 + j + ' '\n",
    "  l2.append(s2)\n",
    "train['review_by_patient'] = l1\n",
    "test['review_by_patient'] = l2"
   ]
  },
  {
   "cell_type": "markdown",
   "id": "cffaa5db",
   "metadata": {},
   "source": [
    "**Tfidf for vectorizing the text column**"
   ]
  },
  {
   "cell_type": "code",
   "execution_count": 38,
   "id": "712291f0",
   "metadata": {},
   "outputs": [],
   "source": [
    "from sklearn.feature_extraction.text import TfidfVectorizer\n",
    "\n",
    "reg = TfidfVectorizer()\n",
    "text = train['review_by_patient']\n",
    "test_text = test['review_by_patient']\n",
    "text_to_vector = reg.fit_transform(text)\n",
    "test_text_to_vector = reg.transform(test_text)\n",
    "Y = train['base_score']"
   ]
  },
  {
   "cell_type": "markdown",
   "id": "2b6554cc",
   "metadata": {},
   "source": [
    "**Normalizing the train column**"
   ]
  },
  {
   "cell_type": "code",
   "execution_count": 42,
   "id": "e3035163",
   "metadata": {},
   "outputs": [
    {
     "data": {
      "text/html": [
       "<div>\n",
       "<style scoped>\n",
       "    .dataframe tbody tr th:only-of-type {\n",
       "        vertical-align: middle;\n",
       "    }\n",
       "\n",
       "    .dataframe tbody tr th {\n",
       "        vertical-align: top;\n",
       "    }\n",
       "\n",
       "    .dataframe thead th {\n",
       "        text-align: right;\n",
       "    }\n",
       "</style>\n",
       "<table border=\"1\" class=\"dataframe\">\n",
       "  <thead>\n",
       "    <tr style=\"text-align: right;\">\n",
       "      <th></th>\n",
       "      <th>effectiveness_rating</th>\n",
       "      <th>number_of_times_prescribed</th>\n",
       "      <th>new_column</th>\n",
       "    </tr>\n",
       "  </thead>\n",
       "  <tbody>\n",
       "    <tr>\n",
       "      <th>0</th>\n",
       "      <td>9</td>\n",
       "      <td>27</td>\n",
       "      <td>1.0</td>\n",
       "    </tr>\n",
       "    <tr>\n",
       "      <th>1</th>\n",
       "      <td>8</td>\n",
       "      <td>192</td>\n",
       "      <td>1.0</td>\n",
       "    </tr>\n",
       "    <tr>\n",
       "      <th>2</th>\n",
       "      <td>5</td>\n",
       "      <td>17</td>\n",
       "      <td>1.0</td>\n",
       "    </tr>\n",
       "    <tr>\n",
       "      <th>3</th>\n",
       "      <td>9</td>\n",
       "      <td>37</td>\n",
       "      <td>1.0</td>\n",
       "    </tr>\n",
       "    <tr>\n",
       "      <th>4</th>\n",
       "      <td>2</td>\n",
       "      <td>43</td>\n",
       "      <td>1.0</td>\n",
       "    </tr>\n",
       "    <tr>\n",
       "      <th>...</th>\n",
       "      <td>...</td>\n",
       "      <td>...</td>\n",
       "      <td>...</td>\n",
       "    </tr>\n",
       "    <tr>\n",
       "      <th>32160</th>\n",
       "      <td>9</td>\n",
       "      <td>89</td>\n",
       "      <td>1.0</td>\n",
       "    </tr>\n",
       "    <tr>\n",
       "      <th>32161</th>\n",
       "      <td>6</td>\n",
       "      <td>0</td>\n",
       "      <td>1.0</td>\n",
       "    </tr>\n",
       "    <tr>\n",
       "      <th>32162</th>\n",
       "      <td>9</td>\n",
       "      <td>25</td>\n",
       "      <td>1.0</td>\n",
       "    </tr>\n",
       "    <tr>\n",
       "      <th>32163</th>\n",
       "      <td>8</td>\n",
       "      <td>22</td>\n",
       "      <td>1.0</td>\n",
       "    </tr>\n",
       "    <tr>\n",
       "      <th>32164</th>\n",
       "      <td>2</td>\n",
       "      <td>35</td>\n",
       "      <td>1.0</td>\n",
       "    </tr>\n",
       "  </tbody>\n",
       "</table>\n",
       "<p>32165 rows × 3 columns</p>\n",
       "</div>"
      ],
      "text/plain": [
       "       effectiveness_rating  number_of_times_prescribed  new_column\n",
       "0                         9                          27         1.0\n",
       "1                         8                         192         1.0\n",
       "2                         5                          17         1.0\n",
       "3                         9                          37         1.0\n",
       "4                         2                          43         1.0\n",
       "...                     ...                         ...         ...\n",
       "32160                     9                          89         1.0\n",
       "32161                     6                           0         1.0\n",
       "32162                     9                          25         1.0\n",
       "32163                     8                          22         1.0\n",
       "32164                     2                          35         1.0\n",
       "\n",
       "[32165 rows x 3 columns]"
      ]
     },
     "execution_count": 42,
     "metadata": {},
     "output_type": "execute_result"
    }
   ],
   "source": [
    "from numpy import linalg as LA\n",
    "\n",
    "t = text_to_vector.toarray()\n",
    "l = [LA.norm(i) for i in t]\n",
    "\n",
    "for i in range(len(l)):\n",
    "  for j in k:\n",
    "    if l[i] == j:\n",
    "      l[i] = k.index(j) + 1\n",
    "train['new_column'] = l\n",
    "X_train = train[['effectiveness_rating', 'number_of_times_prescribed', 'new_column']]\n",
    "X_train"
   ]
  },
  {
   "cell_type": "code",
   "execution_count": 43,
   "id": "d00fe0dc",
   "metadata": {},
   "outputs": [
    {
     "data": {
      "text/plain": [
       "[1.0,\n",
       " 0.9999999999999999,\n",
       " 1.0000000000000002,\n",
       " 0.9999999999999998,\n",
       " 0.9999999999999997,\n",
       " 0.9999999999999996,\n",
       " 1.0000000000000004,\n",
       " 0.9999999999999993,\n",
       " 0.9999999999999994]"
      ]
     },
     "execution_count": 43,
     "metadata": {},
     "output_type": "execute_result"
    }
   ],
   "source": [
    "k = []\n",
    "for i in train['new_column']:\n",
    "  if i not in k:\n",
    "    k.append(i)\n",
    "k"
   ]
  },
  {
   "cell_type": "markdown",
   "id": "58205cab",
   "metadata": {},
   "source": [
    "**Normalizing the test column**"
   ]
  },
  {
   "cell_type": "code",
   "execution_count": 44,
   "id": "71995076",
   "metadata": {},
   "outputs": [
    {
     "data": {
      "text/html": [
       "<div>\n",
       "<style scoped>\n",
       "    .dataframe tbody tr th:only-of-type {\n",
       "        vertical-align: middle;\n",
       "    }\n",
       "\n",
       "    .dataframe tbody tr th {\n",
       "        vertical-align: top;\n",
       "    }\n",
       "\n",
       "    .dataframe thead th {\n",
       "        text-align: right;\n",
       "    }\n",
       "</style>\n",
       "<table border=\"1\" class=\"dataframe\">\n",
       "  <thead>\n",
       "    <tr style=\"text-align: right;\">\n",
       "      <th></th>\n",
       "      <th>effectiveness_rating</th>\n",
       "      <th>number_of_times_prescribed</th>\n",
       "      <th>new_column</th>\n",
       "    </tr>\n",
       "  </thead>\n",
       "  <tbody>\n",
       "    <tr>\n",
       "      <th>0</th>\n",
       "      <td>10</td>\n",
       "      <td>22</td>\n",
       "      <td>4</td>\n",
       "    </tr>\n",
       "    <tr>\n",
       "      <th>1</th>\n",
       "      <td>9</td>\n",
       "      <td>35</td>\n",
       "      <td>1</td>\n",
       "    </tr>\n",
       "    <tr>\n",
       "      <th>2</th>\n",
       "      <td>4</td>\n",
       "      <td>13</td>\n",
       "      <td>1</td>\n",
       "    </tr>\n",
       "    <tr>\n",
       "      <th>3</th>\n",
       "      <td>7</td>\n",
       "      <td>21</td>\n",
       "      <td>1</td>\n",
       "    </tr>\n",
       "    <tr>\n",
       "      <th>4</th>\n",
       "      <td>2</td>\n",
       "      <td>44</td>\n",
       "      <td>1</td>\n",
       "    </tr>\n",
       "    <tr>\n",
       "      <th>...</th>\n",
       "      <td>...</td>\n",
       "      <td>...</td>\n",
       "      <td>...</td>\n",
       "    </tr>\n",
       "    <tr>\n",
       "      <th>10755</th>\n",
       "      <td>1</td>\n",
       "      <td>2</td>\n",
       "      <td>2</td>\n",
       "    </tr>\n",
       "    <tr>\n",
       "      <th>10756</th>\n",
       "      <td>1</td>\n",
       "      <td>18</td>\n",
       "      <td>1</td>\n",
       "    </tr>\n",
       "    <tr>\n",
       "      <th>10757</th>\n",
       "      <td>10</td>\n",
       "      <td>43</td>\n",
       "      <td>2</td>\n",
       "    </tr>\n",
       "    <tr>\n",
       "      <th>10758</th>\n",
       "      <td>8</td>\n",
       "      <td>7</td>\n",
       "      <td>1</td>\n",
       "    </tr>\n",
       "    <tr>\n",
       "      <th>10759</th>\n",
       "      <td>9</td>\n",
       "      <td>46</td>\n",
       "      <td>1</td>\n",
       "    </tr>\n",
       "  </tbody>\n",
       "</table>\n",
       "<p>10760 rows × 3 columns</p>\n",
       "</div>"
      ],
      "text/plain": [
       "       effectiveness_rating  number_of_times_prescribed  new_column\n",
       "0                        10                          22           4\n",
       "1                         9                          35           1\n",
       "2                         4                          13           1\n",
       "3                         7                          21           1\n",
       "4                         2                          44           1\n",
       "...                     ...                         ...         ...\n",
       "10755                     1                           2           2\n",
       "10756                     1                          18           1\n",
       "10757                    10                          43           2\n",
       "10758                     8                           7           1\n",
       "10759                     9                          46           1\n",
       "\n",
       "[10760 rows x 3 columns]"
      ]
     },
     "execution_count": 44,
     "metadata": {},
     "output_type": "execute_result"
    }
   ],
   "source": [
    "t = test_text_to_vector.toarray()\n",
    "l = [LA.norm(i) for i in t]\n",
    "for i in range(len(l)):\n",
    "  for j in k:\n",
    "    if l[i] == j:\n",
    "      l[i] = k.index(j) + 1\n",
    "test['new_column'] = l\n",
    "X_test = test[['effectiveness_rating', 'number_of_times_prescribed', 'new_column']]\n",
    "X_test"
   ]
  },
  {
   "cell_type": "code",
   "execution_count": 51,
   "id": "9c617af0",
   "metadata": {},
   "outputs": [
    {
     "data": {
      "text/plain": [
       "[4, 1, 2, 3, 5, 6, 7]"
      ]
     },
     "execution_count": 51,
     "metadata": {},
     "output_type": "execute_result"
    }
   ],
   "source": [
    "k = []\n",
    "for i in test['new_column']:\n",
    "  if i not in k:\n",
    "    k.append(i)\n",
    "k"
   ]
  },
  {
   "cell_type": "markdown",
   "id": "f7c8e955",
   "metadata": {},
   "source": [
    "**Model - GradientBoostingRegressor**"
   ]
  },
  {
   "cell_type": "code",
   "execution_count": 52,
   "id": "d8d87ac5",
   "metadata": {},
   "outputs": [
    {
     "data": {
      "text/plain": [
       "array([0.49013426, 0.50986574, 0.        ])"
      ]
     },
     "execution_count": 52,
     "metadata": {},
     "output_type": "execute_result"
    }
   ],
   "source": [
    "from sklearn.ensemble import GradientBoostingRegressor\n",
    "\n",
    "reg1 = GradientBoostingRegressor(max_depth = 8, n_estimators = 1400)\n",
    "reg1.fit(X_train,Y)\n",
    "reg1.feature_importances_"
   ]
  },
  {
   "cell_type": "code",
   "execution_count": 53,
   "id": "66ed88e4",
   "metadata": {},
   "outputs": [],
   "source": [
    "pred = reg1.predict(X_test)"
   ]
  },
  {
   "cell_type": "code",
   "execution_count": 74,
   "id": "0eeb378b",
   "metadata": {},
   "outputs": [],
   "source": [
    "import csv\n",
    "\n",
    "with open('prediction_with_basescore.csv', 'w', newline='') as file:\n",
    "    writer = csv.writer(file)\n",
    "    writer.writerow(['patient_id','base_score'])\n",
    "    for i in range(len(list(pred))):\n",
    "        writer.writerow([test[\"patient_id\"][i],pred[i]])"
   ]
  },
  {
   "cell_type": "code",
   "execution_count": 55,
   "id": "6a540441",
   "metadata": {},
   "outputs": [
    {
     "data": {
      "text/plain": [
       "0.9999999997791362"
      ]
     },
     "execution_count": 55,
     "metadata": {},
     "output_type": "execute_result"
    }
   ],
   "source": [
    "pred1 = reg1.predict(X_train)\n",
    "\n",
    "from sklearn.metrics import r2_score\n",
    "\n",
    "score = r2_score(Y,pred1)\n",
    "score"
   ]
  },
  {
   "cell_type": "markdown",
   "id": "0f018d12",
   "metadata": {},
   "source": [
    "**Q. use the input to predict the base score of a certain drug in a provided\n",
    "case.**"
   ]
  },
  {
   "cell_type": "code",
   "execution_count": 75,
   "id": "45f9b66b",
   "metadata": {},
   "outputs": [
    {
     "data": {
      "text/html": [
       "<div>\n",
       "<style scoped>\n",
       "    .dataframe tbody tr th:only-of-type {\n",
       "        vertical-align: middle;\n",
       "    }\n",
       "\n",
       "    .dataframe tbody tr th {\n",
       "        vertical-align: top;\n",
       "    }\n",
       "\n",
       "    .dataframe thead th {\n",
       "        text-align: right;\n",
       "    }\n",
       "</style>\n",
       "<table border=\"1\" class=\"dataframe\">\n",
       "  <thead>\n",
       "    <tr style=\"text-align: right;\">\n",
       "      <th></th>\n",
       "      <th>patient_id</th>\n",
       "      <th>base_score</th>\n",
       "    </tr>\n",
       "  </thead>\n",
       "  <tbody>\n",
       "    <tr>\n",
       "      <th>0</th>\n",
       "      <td>163740</td>\n",
       "      <td>8.757196</td>\n",
       "    </tr>\n",
       "    <tr>\n",
       "      <th>1</th>\n",
       "      <td>39293</td>\n",
       "      <td>8.745033</td>\n",
       "    </tr>\n",
       "    <tr>\n",
       "      <th>2</th>\n",
       "      <td>208087</td>\n",
       "      <td>5.952282</td>\n",
       "    </tr>\n",
       "    <tr>\n",
       "      <th>3</th>\n",
       "      <td>23295</td>\n",
       "      <td>5.994917</td>\n",
       "    </tr>\n",
       "    <tr>\n",
       "      <th>4</th>\n",
       "      <td>97013</td>\n",
       "      <td>5.361564</td>\n",
       "    </tr>\n",
       "    <tr>\n",
       "      <th>5</th>\n",
       "      <td>213376</td>\n",
       "      <td>7.475084</td>\n",
       "    </tr>\n",
       "    <tr>\n",
       "      <th>6</th>\n",
       "      <td>79865</td>\n",
       "      <td>8.358950</td>\n",
       "    </tr>\n",
       "    <tr>\n",
       "      <th>7</th>\n",
       "      <td>27607</td>\n",
       "      <td>6.127480</td>\n",
       "    </tr>\n",
       "    <tr>\n",
       "      <th>8</th>\n",
       "      <td>60341</td>\n",
       "      <td>2.234841</td>\n",
       "    </tr>\n",
       "    <tr>\n",
       "      <th>9</th>\n",
       "      <td>141462</td>\n",
       "      <td>6.485981</td>\n",
       "    </tr>\n",
       "    <tr>\n",
       "      <th>10</th>\n",
       "      <td>50229</td>\n",
       "      <td>4.980475</td>\n",
       "    </tr>\n",
       "  </tbody>\n",
       "</table>\n",
       "</div>"
      ],
      "text/plain": [
       "    patient_id  base_score\n",
       "0       163740    8.757196\n",
       "1        39293    8.745033\n",
       "2       208087    5.952282\n",
       "3        23295    5.994917\n",
       "4        97013    5.361564\n",
       "5       213376    7.475084\n",
       "6        79865    8.358950\n",
       "7        27607    6.127480\n",
       "8        60341    2.234841\n",
       "9       141462    6.485981\n",
       "10       50229    4.980475"
      ]
     },
     "execution_count": 75,
     "metadata": {},
     "output_type": "execute_result"
    }
   ],
   "source": [
    "result = pd.read_csv('prediction_with_basescore.csv')\n",
    "result.head(11)"
   ]
  },
  {
   "cell_type": "code",
   "execution_count": null,
   "id": "870f1c15",
   "metadata": {},
   "outputs": [],
   "source": []
  }
 ],
 "metadata": {
  "kernelspec": {
   "display_name": "PyGPU",
   "language": "python",
   "name": "pygpu"
  },
  "language_info": {
   "codemirror_mode": {
    "name": "ipython",
    "version": 3
   },
   "file_extension": ".py",
   "mimetype": "text/x-python",
   "name": "python",
   "nbconvert_exporter": "python",
   "pygments_lexer": "ipython3",
   "version": "3.8.12"
  }
 },
 "nbformat": 4,
 "nbformat_minor": 5
}
